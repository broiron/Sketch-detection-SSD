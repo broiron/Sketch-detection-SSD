{
 "cells": [
  {
   "cell_type": "code",
   "execution_count": 1,
   "id": "a0b42ebb",
   "metadata": {},
   "outputs": [
    {
     "name": "stderr",
     "output_type": "stream",
     "text": [
      "/home/broiron/.local/lib/python3.7/site-packages/tqdm/auto.py:22: TqdmWarning: IProgress not found. Please update jupyter and ipywidgets. See https://ipywidgets.readthedocs.io/en/stable/user_install.html\n",
      "  from .autonotebook import tqdm as notebook_tqdm\n"
     ]
    }
   ],
   "source": [
    "from data import *\n",
    "from data.config import custom\n",
    "from utils.augmentations import SSDAugmentation\n",
    "from layers.modules import MultiBoxLoss\n",
    "from ssd import build_ssd\n",
    "import os\n",
    "import sys\n",
    "import time\n",
    "import torch\n",
    "from torch.autograd import Variable\n",
    "import torch.nn as nn\n",
    "import torch.optim as optim\n",
    "import torch.backends.cudnn as cudnn\n",
    "import torch.nn.init as init\n",
    "import torch.utils.data as data\n",
    "import numpy as np\n",
    "import argparse"
   ]
  },
  {
   "cell_type": "code",
   "execution_count": 2,
   "id": "9d73f830",
   "metadata": {},
   "outputs": [
    {
     "name": "stdout",
     "output_type": "stream",
     "text": [
      "cuda:0\n"
     ]
    }
   ],
   "source": [
    "if torch.cuda.is_available():\n",
    "    torch.set_default_tensor_type('torch.cuda.FloatTensor')\n",
    "    \n",
    "device = torch.device(\"cuda:0\" if torch.cuda.is_available() else \"cpu\")\n",
    "print(device)"
   ]
  },
  {
   "cell_type": "code",
   "execution_count": 3,
   "id": "ad007957",
   "metadata": {},
   "outputs": [
    {
     "name": "stdout",
     "output_type": "stream",
     "text": [
      "/home/broiron/broiron/line_dataset_vol1_pascal\n"
     ]
    }
   ],
   "source": [
    "print(VOC_ROOT)"
   ]
  },
  {
   "cell_type": "code",
   "execution_count": 4,
   "id": "1b52880c",
   "metadata": {
    "scrolled": true
   },
   "outputs": [],
   "source": [
    "dataset_root = VOC_ROOT\n",
    "cfg = voc\n",
    "\n",
    "dataset = VOCDetection(root=dataset_root, image_sets='train', \n",
    "                       transform=SSDAugmentation(cfg['min_dim'], MEANS))"
   ]
  },
  {
   "cell_type": "code",
   "execution_count": 5,
   "id": "88797d07",
   "metadata": {},
   "outputs": [
    {
     "name": "stdout",
     "output_type": "stream",
     "text": [
      "loading base network...\n"
     ]
    }
   ],
   "source": [
    "base_dir = '/home/broiron/broiron/model_train/ssd_pytorch/'\n",
    "\n",
    "ssd_net = build_ssd('train', 300, num_classes=1)\n",
    "net = ssd_net\n",
    "\n",
    "vgg_weights = torch.load(os.path.join(base_dir, 'weights/vgg16_reducedfc.pth'))\n",
    "print(\"loading base network...\")\n",
    "ssd_net.vgg.load_state_dict(vgg_weights)\n",
    "\n",
    "net = net.to(device)"
   ]
  },
  {
   "cell_type": "code",
   "execution_count": 9,
   "id": "24cfc25b",
   "metadata": {},
   "outputs": [
    {
     "name": "stdout",
     "output_type": "stream",
     "text": [
      "400\n"
     ]
    },
    {
     "data": {
      "text/plain": [
       "(tensor([[[  0.,   0.,   0.,  ...,   0.,   0.,   0.],\n",
       "          [  0.,   0.,   0.,  ...,   0.,   0.,   0.],\n",
       "          [  0.,   0.,   0.,  ...,   0.,   0.,   0.],\n",
       "          ...,\n",
       "          [132., 132., 132.,  ...,   0.,   0.,   0.],\n",
       "          [132., 132., 132.,  ...,   0.,   0.,   0.],\n",
       "          [132., 132., 132.,  ...,   0.,   0.,   0.]],\n",
       " \n",
       "         [[  0.,   0.,   0.,  ...,   0.,   0.,   0.],\n",
       "          [  0.,   0.,   0.,  ...,   0.,   0.,   0.],\n",
       "          [  0.,   0.,   0.,  ...,   0.,   0.,   0.],\n",
       "          ...,\n",
       "          [138., 138., 138.,  ...,   0.,   0.,   0.],\n",
       "          [138., 138., 138.,  ...,   0.,   0.,   0.],\n",
       "          [138., 138., 138.,  ...,   0.,   0.,   0.]],\n",
       " \n",
       "         [[  0.,   0.,   0.,  ...,   0.,   0.,   0.],\n",
       "          [  0.,   0.,   0.,  ...,   0.,   0.,   0.],\n",
       "          [  0.,   0.,   0.,  ...,   0.,   0.,   0.],\n",
       "          ...,\n",
       "          [151., 151., 151.,  ...,   0.,   0.,   0.],\n",
       "          [151., 151., 151.,  ...,   0.,   0.,   0.],\n",
       "          [151., 151., 151.,  ...,   0.,   0.,   0.]]], device='cpu'),\n",
       " array([[0.06768687, 0.59479718, 0.458505  , 0.67724868, 0.        ],\n",
       "        [0.17539729, 0.68209877, 0.20188346, 0.75176367, 0.        ],\n",
       "        [0.0988817 , 0.77336861, 0.29429076, 0.82275132, 0.        ]]))"
      ]
     },
     "execution_count": 9,
     "metadata": {},
     "output_type": "execute_result"
    }
   ],
   "source": [
    "print(len(dataset))\n",
    "dataset.__getitem__(0)"
   ]
  },
  {
   "cell_type": "code",
   "execution_count": 10,
   "id": "788fcadb",
   "metadata": {},
   "outputs": [],
   "source": [
    "# setting with default value\n",
    "optimizer = optim.SGD(net.parameters(), lr=1e-5, momentum=0.9, # 1e-3 -> 1e-5\n",
    "                          weight_decay=5e-4) \n",
    "'''\n",
    "criterion = MultiBoxLoss(num_classes=2, overlap_thresh=0.5, prior_for_matching=True, \n",
    "                         bkg_label=1, neg_mining=True, neg_pos=3, neg_overlap=0.5, \n",
    "                         encode_target=False, use_gpu=True)\n",
    "'''\n",
    "\n",
    "criterion = MultiBoxLoss(num_classes=1, overlap_thresh=0.5, prior_for_matching=True, \n",
    "                         bkg_label=1, neg_mining=True, neg_pos=3, neg_overlap=0.5, \n",
    "                         encode_target=False, use_gpu=True)"
   ]
  },
  {
   "cell_type": "code",
   "execution_count": 11,
   "id": "9ce88c15",
   "metadata": {},
   "outputs": [],
   "source": [
    "def detection_collate(batch):\n",
    "    \"\"\"Custom collate fn for dealing with batches of images that have a different\n",
    "    number of associated object annotations (bounding boxes).\n",
    "    Arguments:\n",
    "        batch: (tuple) A tuple of tensor images and lists of annotations\n",
    "    Return:\n",
    "        A tuple containing:\n",
    "            1) (tensor) batch of images stacked on their 0 dim\n",
    "            2) (list of tensors) annotations for a given image are stacked on 0 dim\n",
    "    \"\"\"\n",
    "    targets = []\n",
    "    imgs = []\n",
    "    for sample in batch:\n",
    "        imgs.append(sample[0])\n",
    "        targets.append(torch.FloatTensor(sample[1]))\n",
    "    return torch.stack(imgs, 0), targets"
   ]
  },
  {
   "cell_type": "code",
   "execution_count": 12,
   "id": "2f430e7f",
   "metadata": {},
   "outputs": [
    {
     "name": "stdout",
     "output_type": "stream",
     "text": [
      "loading dataset...\n",
      "Training SSD on:  default\n",
      "Data loader length... 50\n"
     ]
    }
   ],
   "source": [
    "net.train()\n",
    "\n",
    "loc_loss = 0\n",
    "conf_loss = 0\n",
    "epoch = 0\n",
    "batch_size = 8\n",
    "# batch_size=32 # original\n",
    "\n",
    "print('loading dataset...')\n",
    "\n",
    "epoch_size = len(dataset) // batch_size\n",
    "\n",
    "print('Training SSD on: ', dataset.name)\n",
    "\n",
    "step_index = 0\n",
    "\n",
    "data_loader = data.DataLoader(dataset, batch_size, num_workers=4, shuffle=False, collate_fn=detection_collate,\n",
    "                             pin_memory=True)\n",
    "print('Data loader length...', len(data_loader))"
   ]
  },
  {
   "cell_type": "code",
   "execution_count": 13,
   "id": "d2e59e89",
   "metadata": {},
   "outputs": [
    {
     "name": "stdout",
     "output_type": "stream",
     "text": [
      "25000\n"
     ]
    }
   ],
   "source": [
    "iter_size = len(data_loader) * epoch_size * 10\n",
    "print(iter_size)"
   ]
  },
  {
   "cell_type": "code",
   "execution_count": 14,
   "id": "0a61ef4b",
   "metadata": {
    "scrolled": true
   },
   "outputs": [
    {
     "name": "stderr",
     "output_type": "stream",
     "text": [
      "/home/broiron/anaconda3/envs/ssd_train/lib/python3.7/site-packages/torch/nn/_reduction.py:44: UserWarning: size_average and reduce args will be deprecated, please use reduction='sum' instead.\n",
      "  warnings.warn(warning.format(ret))\n",
      "/pytorch/aten/src/ATen/native/cuda/ScatterGatherKernel.cu:115: operator(): block: [182,0,0], thread: [33,0,0] Assertion `idx_dim >= 0 && idx_dim < index_size && \"index out of bounds\"` failed.\n",
      "/pytorch/aten/src/ATen/native/cuda/ScatterGatherKernel.cu:115: operator(): block: [128,0,0], thread: [34,0,0] Assertion `idx_dim >= 0 && idx_dim < index_size && \"index out of bounds\"` failed.\n",
      "/pytorch/aten/src/ATen/native/cuda/ScatterGatherKernel.cu:115: operator(): block: [111,0,0], thread: [33,0,0] Assertion `idx_dim >= 0 && idx_dim < index_size && \"index out of bounds\"` failed.\n",
      "/pytorch/aten/src/ATen/native/cuda/ScatterGatherKernel.cu:115: operator(): block: [111,0,0], thread: [37,0,0] Assertion `idx_dim >= 0 && idx_dim < index_size && \"index out of bounds\"` failed.\n",
      "/pytorch/aten/src/ATen/native/cuda/ScatterGatherKernel.cu:115: operator(): block: [43,0,0], thread: [39,0,0] Assertion `idx_dim >= 0 && idx_dim < index_size && \"index out of bounds\"` failed.\n",
      "/pytorch/aten/src/ATen/native/cuda/ScatterGatherKernel.cu:115: operator(): block: [229,0,0], thread: [2,0,0] Assertion `idx_dim >= 0 && idx_dim < index_size && \"index out of bounds\"` failed.\n",
      "/pytorch/aten/src/ATen/native/cuda/ScatterGatherKernel.cu:115: operator(): block: [229,0,0], thread: [4,0,0] Assertion `idx_dim >= 0 && idx_dim < index_size && \"index out of bounds\"` failed.\n",
      "/pytorch/aten/src/ATen/native/cuda/ScatterGatherKernel.cu:115: operator(): block: [180,0,0], thread: [32,0,0] Assertion `idx_dim >= 0 && idx_dim < index_size && \"index out of bounds\"` failed.\n",
      "/pytorch/aten/src/ATen/native/cuda/ScatterGatherKernel.cu:115: operator(): block: [180,0,0], thread: [35,0,0] Assertion `idx_dim >= 0 && idx_dim < index_size && \"index out of bounds\"` failed.\n",
      "/pytorch/aten/src/ATen/native/cuda/ScatterGatherKernel.cu:115: operator(): block: [180,0,0], thread: [5,0,0] Assertion `idx_dim >= 0 && idx_dim < index_size && \"index out of bounds\"` failed.\n",
      "/pytorch/aten/src/ATen/native/cuda/ScatterGatherKernel.cu:115: operator(): block: [181,0,0], thread: [0,0,0] Assertion `idx_dim >= 0 && idx_dim < index_size && \"index out of bounds\"` failed.\n",
      "/pytorch/aten/src/ATen/native/cuda/ScatterGatherKernel.cu:115: operator(): block: [181,0,0], thread: [1,0,0] Assertion `idx_dim >= 0 && idx_dim < index_size && \"index out of bounds\"` failed.\n",
      "/pytorch/aten/src/ATen/native/cuda/ScatterGatherKernel.cu:115: operator(): block: [181,0,0], thread: [4,0,0] Assertion `idx_dim >= 0 && idx_dim < index_size && \"index out of bounds\"` failed.\n",
      "/pytorch/aten/src/ATen/native/cuda/ScatterGatherKernel.cu:115: operator(): block: [181,0,0], thread: [5,0,0] Assertion `idx_dim >= 0 && idx_dim < index_size && \"index out of bounds\"` failed.\n",
      "/pytorch/aten/src/ATen/native/cuda/ScatterGatherKernel.cu:115: operator(): block: [13,0,0], thread: [39,0,0] Assertion `idx_dim >= 0 && idx_dim < index_size && \"index out of bounds\"` failed.\n",
      "/pytorch/aten/src/ATen/native/cuda/ScatterGatherKernel.cu:115: operator(): block: [189,0,0], thread: [9,0,0] Assertion `idx_dim >= 0 && idx_dim < index_size && \"index out of bounds\"` failed.\n",
      "/pytorch/aten/src/ATen/native/cuda/ScatterGatherKernel.cu:115: operator(): block: [82,0,0], thread: [39,0,0] Assertion `idx_dim >= 0 && idx_dim < index_size && \"index out of bounds\"` failed.\n",
      "/pytorch/aten/src/ATen/native/cuda/ScatterGatherKernel.cu:115: operator(): block: [190,0,0], thread: [41,0,0] Assertion `idx_dim >= 0 && idx_dim < index_size && \"index out of bounds\"` failed.\n",
      "/pytorch/aten/src/ATen/native/cuda/ScatterGatherKernel.cu:115: operator(): block: [179,0,0], thread: [5,0,0] Assertion `idx_dim >= 0 && idx_dim < index_size && \"index out of bounds\"` failed.\n",
      "/pytorch/aten/src/ATen/native/cuda/ScatterGatherKernel.cu:115: operator(): block: [179,0,0], thread: [8,0,0] Assertion `idx_dim >= 0 && idx_dim < index_size && \"index out of bounds\"` failed.\n",
      "/pytorch/aten/src/ATen/native/cuda/ScatterGatherKernel.cu:115: operator(): block: [179,0,0], thread: [9,0,0] Assertion `idx_dim >= 0 && idx_dim < index_size && \"index out of bounds\"` failed.\n",
      "/pytorch/aten/src/ATen/native/cuda/ScatterGatherKernel.cu:115: operator(): block: [179,0,0], thread: [11,0,0] Assertion `idx_dim >= 0 && idx_dim < index_size && \"index out of bounds\"` failed.\n",
      "/pytorch/aten/src/ATen/native/cuda/ScatterGatherKernel.cu:115: operator(): block: [255,0,0], thread: [2,0,0] Assertion `idx_dim >= 0 && idx_dim < index_size && \"index out of bounds\"` failed.\n",
      "/pytorch/aten/src/ATen/native/cuda/ScatterGatherKernel.cu:115: operator(): block: [199,0,0], thread: [2,0,0] Assertion `idx_dim >= 0 && idx_dim < index_size && \"index out of bounds\"` failed.\n",
      "/pytorch/aten/src/ATen/native/cuda/ScatterGatherKernel.cu:115: operator(): block: [134,0,0], thread: [45,0,0] Assertion `idx_dim >= 0 && idx_dim < index_size && \"index out of bounds\"` failed.\n",
      "/pytorch/aten/src/ATen/native/cuda/ScatterGatherKernel.cu:115: operator(): block: [187,0,0], thread: [37,0,0] Assertion `idx_dim >= 0 && idx_dim < index_size && \"index out of bounds\"` failed.\n",
      "/pytorch/aten/src/ATen/native/cuda/ScatterGatherKernel.cu:115: operator(): block: [185,0,0], thread: [41,0,0] Assertion `idx_dim >= 0 && idx_dim < index_size && \"index out of bounds\"` failed.\n",
      "/pytorch/aten/src/ATen/native/cuda/ScatterGatherKernel.cu:115: operator(): block: [185,0,0], thread: [45,0,0] Assertion `idx_dim >= 0 && idx_dim < index_size && \"index out of bounds\"` failed.\n",
      "/pytorch/aten/src/ATen/native/cuda/ScatterGatherKernel.cu:115: operator(): block: [28,0,0], thread: [41,0,0] Assertion `idx_dim >= 0 && idx_dim < index_size && \"index out of bounds\"` failed.\n",
      "/pytorch/aten/src/ATen/native/cuda/ScatterGatherKernel.cu:115: operator(): block: [15,0,0], thread: [40,0,0] Assertion `idx_dim >= 0 && idx_dim < index_size && \"index out of bounds\"` failed.\n",
      "/pytorch/aten/src/ATen/native/cuda/ScatterGatherKernel.cu:115: operator(): block: [15,0,0], thread: [42,0,0] Assertion `idx_dim >= 0 && idx_dim < index_size && \"index out of bounds\"` failed.\n",
      "/pytorch/aten/src/ATen/native/cuda/ScatterGatherKernel.cu:115: operator(): block: [15,0,0], thread: [44,0,0] Assertion `idx_dim >= 0 && idx_dim < index_size && \"index out of bounds\"` failed.\n",
      "/pytorch/aten/src/ATen/native/cuda/ScatterGatherKernel.cu:115: operator(): block: [15,0,0], thread: [46,0,0] Assertion `idx_dim >= 0 && idx_dim < index_size && \"index out of bounds\"` failed.\n",
      "/pytorch/aten/src/ATen/native/cuda/ScatterGatherKernel.cu:115: operator(): block: [136,0,0], thread: [44,0,0] Assertion `idx_dim >= 0 && idx_dim < index_size && \"index out of bounds\"` failed.\n",
      "/pytorch/aten/src/ATen/native/cuda/ScatterGatherKernel.cu:115: operator(): block: [136,0,0], thread: [45,0,0] Assertion `idx_dim >= 0 && idx_dim < index_size && \"index out of bounds\"` failed.\n",
      "/pytorch/aten/src/ATen/native/cuda/ScatterGatherKernel.cu:115: operator(): block: [136,0,0], thread: [46,0,0] Assertion `idx_dim >= 0 && idx_dim < index_size && \"index out of bounds\"` failed.\n",
      "/pytorch/aten/src/ATen/native/cuda/ScatterGatherKernel.cu:115: operator(): block: [136,0,0], thread: [47,0,0] Assertion `idx_dim >= 0 && idx_dim < index_size && \"index out of bounds\"` failed.\n",
      "/pytorch/aten/src/ATen/native/cuda/ScatterGatherKernel.cu:115: operator(): block: [227,0,0], thread: [32,0,0] Assertion `idx_dim >= 0 && idx_dim < index_size && \"index out of bounds\"` failed.\n",
      "/pytorch/aten/src/ATen/native/cuda/ScatterGatherKernel.cu:115: operator(): block: [227,0,0], thread: [34,0,0] Assertion `idx_dim >= 0 && idx_dim < index_size && \"index out of bounds\"` failed.\n",
      "/pytorch/aten/src/ATen/native/cuda/ScatterGatherKernel.cu:115: operator(): block: [227,0,0], thread: [36,0,0] Assertion `idx_dim >= 0 && idx_dim < index_size && \"index out of bounds\"` failed.\n",
      "/pytorch/aten/src/ATen/native/cuda/ScatterGatherKernel.cu:115: operator(): block: [198,0,0], thread: [36,0,0] Assertion `idx_dim >= 0 && idx_dim < index_size && \"index out of bounds\"` failed.\n",
      "/pytorch/aten/src/ATen/native/cuda/ScatterGatherKernel.cu:115: operator(): block: [198,0,0], thread: [38,0,0] Assertion `idx_dim >= 0 && idx_dim < index_size && \"index out of bounds\"` failed.\n",
      "/pytorch/aten/src/ATen/native/cuda/ScatterGatherKernel.cu:115: operator(): block: [198,0,0], thread: [42,0,0] Assertion `idx_dim >= 0 && idx_dim < index_size && \"index out of bounds\"` failed.\n",
      "/pytorch/aten/src/ATen/native/cuda/ScatterGatherKernel.cu:115: operator(): block: [198,0,0], thread: [44,0,0] Assertion `idx_dim >= 0 && idx_dim < index_size && \"index out of bounds\"` failed.\n",
      "/pytorch/aten/src/ATen/native/cuda/ScatterGatherKernel.cu:115: operator(): block: [254,0,0], thread: [40,0,0] Assertion `idx_dim >= 0 && idx_dim < index_size && \"index out of bounds\"` failed.\n",
      "/pytorch/aten/src/ATen/native/cuda/ScatterGatherKernel.cu:115: operator(): block: [254,0,0], thread: [41,0,0] Assertion `idx_dim >= 0 && idx_dim < index_size && \"index out of bounds\"` failed.\n",
      "/pytorch/aten/src/ATen/native/cuda/ScatterGatherKernel.cu:115: operator(): block: [254,0,0], thread: [43,0,0] Assertion `idx_dim >= 0 && idx_dim < index_size && \"index out of bounds\"` failed.\n",
      "/pytorch/aten/src/ATen/native/cuda/ScatterGatherKernel.cu:115: operator(): block: [254,0,0], thread: [45,0,0] Assertion `idx_dim >= 0 && idx_dim < index_size && \"index out of bounds\"` failed.\n",
      "/pytorch/aten/src/ATen/native/cuda/ScatterGatherKernel.cu:115: operator(): block: [190,0,0], thread: [13,0,0] Assertion `idx_dim >= 0 && idx_dim < index_size && \"index out of bounds\"` failed.\n",
      "/pytorch/aten/src/ATen/native/cuda/ScatterGatherKernel.cu:115: operator(): block: [190,0,0], thread: [17,0,0] Assertion `idx_dim >= 0 && idx_dim < index_size && \"index out of bounds\"` failed.\n",
      "/pytorch/aten/src/ATen/native/cuda/ScatterGatherKernel.cu:115: operator(): block: [133,0,0], thread: [49,0,0] Assertion `idx_dim >= 0 && idx_dim < index_size && \"index out of bounds\"` failed.\n",
      "/pytorch/aten/src/ATen/native/cuda/ScatterGatherKernel.cu:115: operator(): block: [183,0,0], thread: [17,0,0] Assertion `idx_dim >= 0 && idx_dim < index_size && \"index out of bounds\"` failed.\n",
      "/pytorch/aten/src/ATen/native/cuda/ScatterGatherKernel.cu:115: operator(): block: [27,0,0], thread: [42,0,0] Assertion `idx_dim >= 0 && idx_dim < index_size && \"index out of bounds\"` failed.\n",
      "/pytorch/aten/src/ATen/native/cuda/ScatterGatherKernel.cu:115: operator(): block: [27,0,0], thread: [44,0,0] Assertion `idx_dim >= 0 && idx_dim < index_size && \"index out of bounds\"` failed.\n",
      "/pytorch/aten/src/ATen/native/cuda/ScatterGatherKernel.cu:115: operator(): block: [27,0,0], thread: [48,0,0] Assertion `idx_dim >= 0 && idx_dim < index_size && \"index out of bounds\"` failed.\n",
      "/pytorch/aten/src/ATen/native/cuda/ScatterGatherKernel.cu:115: operator(): block: [27,0,0], thread: [50,0,0] Assertion `idx_dim >= 0 && idx_dim < index_size && \"index out of bounds\"` failed.\n",
      "/pytorch/aten/src/ATen/native/cuda/ScatterGatherKernel.cu:115: operator(): block: [178,0,0], thread: [51,0,0] Assertion `idx_dim >= 0 && idx_dim < index_size && \"index out of bounds\"` failed.\n",
      "/pytorch/aten/src/ATen/native/cuda/ScatterGatherKernel.cu:115: operator(): block: [229,0,0], thread: [52,0,0] Assertion `idx_dim >= 0 && idx_dim < index_size && \"index out of bounds\"` failed.\n",
      "/pytorch/aten/src/ATen/native/cuda/ScatterGatherKernel.cu:115: operator(): block: [210,0,0], thread: [49,0,0] Assertion `idx_dim >= 0 && idx_dim < index_size && \"index out of bounds\"` failed.\n",
      "/pytorch/aten/src/ATen/native/cuda/ScatterGatherKernel.cu:115: operator(): block: [210,0,0], thread: [53,0,0] Assertion `idx_dim >= 0 && idx_dim < index_size && \"index out of bounds\"` failed.\n",
      "/pytorch/aten/src/ATen/native/cuda/ScatterGatherKernel.cu:115: operator(): block: [181,0,0], thread: [53,0,0] Assertion `idx_dim >= 0 && idx_dim < index_size && \"index out of bounds\"` failed.\n",
      "/pytorch/aten/src/ATen/native/cuda/ScatterGatherKernel.cu:115: operator(): block: [188,0,0], thread: [21,0,0] Assertion `idx_dim >= 0 && idx_dim < index_size && \"index out of bounds\"` failed.\n",
      "/pytorch/aten/src/ATen/native/cuda/ScatterGatherKernel.cu:115: operator(): block: [184,0,0], thread: [53,0,0] Assertion `idx_dim >= 0 && idx_dim < index_size && \"index out of bounds\"` failed.\n",
      "/pytorch/aten/src/ATen/native/cuda/ScatterGatherKernel.cu:115: operator(): block: [184,0,0], thread: [55,0,0] Assertion `idx_dim >= 0 && idx_dim < index_size && \"index out of bounds\"` failed.\n",
      "/pytorch/aten/src/ATen/native/cuda/ScatterGatherKernel.cu:115: operator(): block: [197,0,0], thread: [20,0,0] Assertion `idx_dim >= 0 && idx_dim < index_size && \"index out of bounds\"` failed.\n",
      "/pytorch/aten/src/ATen/native/cuda/ScatterGatherKernel.cu:115: operator(): block: [197,0,0], thread: [23,0,0] Assertion `idx_dim >= 0 && idx_dim < index_size && \"index out of bounds\"` failed.\n",
      "/pytorch/aten/src/ATen/native/cuda/ScatterGatherKernel.cu:115: operator(): block: [253,0,0], thread: [48,0,0] Assertion `idx_dim >= 0 && idx_dim < index_size && \"index out of bounds\"` failed.\n",
      "/pytorch/aten/src/ATen/native/cuda/ScatterGatherKernel.cu:115: operator(): block: [253,0,0], thread: [52,0,0] Assertion `idx_dim >= 0 && idx_dim < index_size && \"index out of bounds\"` failed.\n",
      "/pytorch/aten/src/ATen/native/cuda/ScatterGatherKernel.cu:115: operator(): block: [253,0,0], thread: [53,0,0] Assertion `idx_dim >= 0 && idx_dim < index_size && \"index out of bounds\"` failed.\n",
      "/pytorch/aten/src/ATen/native/cuda/ScatterGatherKernel.cu:115: operator(): block: [253,0,0], thread: [54,0,0] Assertion `idx_dim >= 0 && idx_dim < index_size && \"index out of bounds\"` failed.\n",
      "/pytorch/aten/src/ATen/native/cuda/ScatterGatherKernel.cu:115: operator(): block: [253,0,0], thread: [55,0,0] Assertion `idx_dim >= 0 && idx_dim < index_size && \"index out of bounds\"` failed.\n",
      "/pytorch/aten/src/ATen/native/cuda/ScatterGatherKernel.cu:115: operator(): block: [253,0,0], thread: [0,0,0] Assertion `idx_dim >= 0 && idx_dim < index_size && \"index out of bounds\"` failed.\n",
      "/pytorch/aten/src/ATen/native/cuda/ScatterGatherKernel.cu:115: operator(): block: [253,0,0], thread: [16,0,0] Assertion `idx_dim >= 0 && idx_dim < index_size && \"index out of bounds\"` failed.\n",
      "/pytorch/aten/src/ATen/native/cuda/ScatterGatherKernel.cu:115: operator(): block: [253,0,0], thread: [17,0,0] Assertion `idx_dim >= 0 && idx_dim < index_size && \"index out of bounds\"` failed.\n",
      "/pytorch/aten/src/ATen/native/cuda/ScatterGatherKernel.cu:115: operator(): block: [253,0,0], thread: [19,0,0] Assertion `idx_dim >= 0 && idx_dim < index_size && \"index out of bounds\"` failed.\n",
      "/pytorch/aten/src/ATen/native/cuda/ScatterGatherKernel.cu:115: operator(): block: [253,0,0], thread: [20,0,0] Assertion `idx_dim >= 0 && idx_dim < index_size && \"index out of bounds\"` failed.\n",
      "/pytorch/aten/src/ATen/native/cuda/ScatterGatherKernel.cu:115: operator(): block: [253,0,0], thread: [21,0,0] Assertion `idx_dim >= 0 && idx_dim < index_size && \"index out of bounds\"` failed.\n",
      "/pytorch/aten/src/ATen/native/cuda/ScatterGatherKernel.cu:115: operator(): block: [253,0,0], thread: [23,0,0] Assertion `idx_dim >= 0 && idx_dim < index_size && \"index out of bounds\"` failed.\n",
      "/pytorch/aten/src/ATen/native/cuda/ScatterGatherKernel.cu:115: operator(): block: [189,0,0], thread: [57,0,0] Assertion `idx_dim >= 0 && idx_dim < index_size && \"index out of bounds\"` failed.\n",
      "/pytorch/aten/src/ATen/native/cuda/ScatterGatherKernel.cu:115: operator(): block: [197,0,0], thread: [54,0,0] Assertion `idx_dim >= 0 && idx_dim < index_size && \"index out of bounds\"` failed.\n",
      "/pytorch/aten/src/ATen/native/cuda/ScatterGatherKernel.cu:115: operator(): block: [197,0,0], thread: [57,0,0] Assertion `idx_dim >= 0 && idx_dim < index_size && \"index out of bounds\"` failed.\n",
      "/pytorch/aten/src/ATen/native/cuda/ScatterGatherKernel.cu:115: operator(): block: [136,0,0], thread: [24,0,0] Assertion `idx_dim >= 0 && idx_dim < index_size && \"index out of bounds\"` failed.\n",
      "/pytorch/aten/src/ATen/native/cuda/ScatterGatherKernel.cu:115: operator(): block: [136,0,0], thread: [25,0,0] Assertion `idx_dim >= 0 && idx_dim < index_size && \"index out of bounds\"` failed.\n",
      "/pytorch/aten/src/ATen/native/cuda/ScatterGatherKernel.cu:115: operator(): block: [136,0,0], thread: [26,0,0] Assertion `idx_dim >= 0 && idx_dim < index_size && \"index out of bounds\"` failed.\n",
      "/pytorch/aten/src/ATen/native/cuda/ScatterGatherKernel.cu:115: operator(): block: [135,0,0], thread: [35,0,0] Assertion `idx_dim >= 0 && idx_dim < index_size && \"index out of bounds\"` failed.\n",
      "/pytorch/aten/src/ATen/native/cuda/ScatterGatherKernel.cu:115: operator(): block: [135,0,0], thread: [52,0,0] Assertion `idx_dim >= 0 && idx_dim < index_size && \"index out of bounds\"` failed.\n",
      "/pytorch/aten/src/ATen/native/cuda/ScatterGatherKernel.cu:115: operator(): block: [135,0,0], thread: [53,0,0] Assertion `idx_dim >= 0 && idx_dim < index_size && \"index out of bounds\"` failed.\n",
      "/pytorch/aten/src/ATen/native/cuda/ScatterGatherKernel.cu:115: operator(): block: [135,0,0], thread: [58,0,0] Assertion `idx_dim >= 0 && idx_dim < index_size && \"index out of bounds\"` failed.\n",
      "/pytorch/aten/src/ATen/native/cuda/ScatterGatherKernel.cu:115: operator(): block: [135,0,0], thread: [59,0,0] Assertion `idx_dim >= 0 && idx_dim < index_size && \"index out of bounds\"` failed.\n",
      "/pytorch/aten/src/ATen/native/cuda/ScatterGatherKernel.cu:115: operator(): block: [128,0,0], thread: [28,0,0] Assertion `idx_dim >= 0 && idx_dim < index_size && \"index out of bounds\"` failed.\n",
      "/pytorch/aten/src/ATen/native/cuda/ScatterGatherKernel.cu:115: operator(): block: [210,0,0], thread: [25,0,0] Assertion `idx_dim >= 0 && idx_dim < index_size && \"index out of bounds\"` failed.\n",
      "/pytorch/aten/src/ATen/native/cuda/ScatterGatherKernel.cu:115: operator(): block: [210,0,0], thread: [29,0,0] Assertion `idx_dim >= 0 && idx_dim < index_size && \"index out of bounds\"` failed.\n",
      "/pytorch/aten/src/ATen/native/cuda/ScatterGatherKernel.cu:115: operator(): block: [200,0,0], thread: [26,0,0] Assertion `idx_dim >= 0 && idx_dim < index_size && \"index out of bounds\"` failed.\n",
      "/pytorch/aten/src/ATen/native/cuda/ScatterGatherKernel.cu:115: operator(): block: [200,0,0], thread: [29,0,0] Assertion `idx_dim >= 0 && idx_dim < index_size && \"index out of bounds\"` failed.\n",
      "/pytorch/aten/src/ATen/native/cuda/ScatterGatherKernel.cu:115: operator(): block: [227,0,0], thread: [26,0,0] Assertion `idx_dim >= 0 && idx_dim < index_size && \"index out of bounds\"` failed.\n",
      "/pytorch/aten/src/ATen/native/cuda/ScatterGatherKernel.cu:115: operator(): block: [227,0,0], thread: [28,0,0] Assertion `idx_dim >= 0 && idx_dim < index_size && \"index out of bounds\"` failed.\n",
      "/pytorch/aten/src/ATen/native/cuda/ScatterGatherKernel.cu:115: operator(): block: [227,0,0], thread: [30,0,0] Assertion `idx_dim >= 0 && idx_dim < index_size && \"index out of bounds\"` failed.\n",
      "/pytorch/aten/src/ATen/native/cuda/ScatterGatherKernel.cu:115: operator(): block: [184,0,0], thread: [29,0,0] Assertion `idx_dim >= 0 && idx_dim < index_size && \"index out of bounds\"` failed.\n",
      "/pytorch/aten/src/ATen/native/cuda/ScatterGatherKernel.cu:115: operator(): block: [184,0,0], thread: [31,0,0] Assertion `idx_dim >= 0 && idx_dim < index_size && \"index out of bounds\"` failed.\n",
      "/pytorch/aten/src/ATen/native/cuda/ScatterGatherKernel.cu:115: operator(): block: [59,0,0], thread: [63,0,0] Assertion `idx_dim >= 0 && idx_dim < index_size && \"index out of bounds\"` failed.\n",
      "/pytorch/aten/src/ATen/native/cuda/ScatterGatherKernel.cu:115: operator(): block: [135,0,0], thread: [28,0,0] Assertion `idx_dim >= 0 && idx_dim < index_size && \"index out of bounds\"` failed.\n",
      "/pytorch/aten/src/ATen/native/cuda/ScatterGatherKernel.cu:115: operator(): block: [135,0,0], thread: [29,0,0] Assertion `idx_dim >= 0 && idx_dim < index_size && \"index out of bounds\"` failed.\n",
      "/pytorch/aten/src/ATen/native/cuda/ScatterGatherKernel.cu:115: operator(): block: [135,0,0], thread: [31,0,0] Assertion `idx_dim >= 0 && idx_dim < index_size && \"index out of bounds\"` failed.\n",
      "/pytorch/aten/src/ATen/native/cuda/ScatterGatherKernel.cu:115: operator(): block: [160,0,0], thread: [31,0,0] Assertion `idx_dim >= 0 && idx_dim < index_size && \"index out of bounds\"` failed.\n",
      "THCudaCheck FAIL file=/pytorch/aten/src/THC/THCCachingHostAllocator.cpp line=278 error=710 : device-side assert triggered\n"
     ]
    },
    {
     "ename": "RuntimeError",
     "evalue": "CUDA error: device-side assert triggered",
     "output_type": "error",
     "traceback": [
      "\u001b[0;31m---------------------------------------------------------------------------\u001b[0m",
      "\u001b[0;31mRuntimeError\u001b[0m                              Traceback (most recent call last)",
      "\u001b[0;32m/tmp/ipykernel_53688/197564414.py\u001b[0m in \u001b[0;36m<module>\u001b[0;34m\u001b[0m\n\u001b[1;32m     24\u001b[0m     \u001b[0;31m# backward\u001b[0m\u001b[0;34m\u001b[0m\u001b[0;34m\u001b[0m\u001b[0;34m\u001b[0m\u001b[0m\n\u001b[1;32m     25\u001b[0m     \u001b[0moptimizer\u001b[0m\u001b[0;34m.\u001b[0m\u001b[0mzero_grad\u001b[0m\u001b[0;34m(\u001b[0m\u001b[0;34m)\u001b[0m\u001b[0;34m\u001b[0m\u001b[0;34m\u001b[0m\u001b[0m\n\u001b[0;32m---> 26\u001b[0;31m     \u001b[0mloss_l\u001b[0m\u001b[0;34m,\u001b[0m \u001b[0mloss_c\u001b[0m \u001b[0;34m=\u001b[0m \u001b[0mcriterion\u001b[0m\u001b[0;34m(\u001b[0m\u001b[0mout\u001b[0m\u001b[0;34m,\u001b[0m \u001b[0mtargets\u001b[0m\u001b[0;34m)\u001b[0m\u001b[0;34m\u001b[0m\u001b[0;34m\u001b[0m\u001b[0m\n\u001b[0m\u001b[1;32m     27\u001b[0m     \u001b[0mloss\u001b[0m \u001b[0;34m=\u001b[0m \u001b[0mloss_l\u001b[0m \u001b[0;34m+\u001b[0m \u001b[0mloss_c\u001b[0m\u001b[0;34m\u001b[0m\u001b[0;34m\u001b[0m\u001b[0m\n\u001b[1;32m     28\u001b[0m     \u001b[0mloss\u001b[0m\u001b[0;34m.\u001b[0m\u001b[0mbackward\u001b[0m\u001b[0;34m(\u001b[0m\u001b[0;34m)\u001b[0m\u001b[0;34m\u001b[0m\u001b[0;34m\u001b[0m\u001b[0m\n",
      "\u001b[0;32m~/anaconda3/envs/ssd_train/lib/python3.7/site-packages/torch/nn/modules/module.py\u001b[0m in \u001b[0;36m_call_impl\u001b[0;34m(self, *input, **kwargs)\u001b[0m\n\u001b[1;32m    725\u001b[0m             \u001b[0mresult\u001b[0m \u001b[0;34m=\u001b[0m \u001b[0mself\u001b[0m\u001b[0;34m.\u001b[0m\u001b[0m_slow_forward\u001b[0m\u001b[0;34m(\u001b[0m\u001b[0;34m*\u001b[0m\u001b[0minput\u001b[0m\u001b[0;34m,\u001b[0m \u001b[0;34m**\u001b[0m\u001b[0mkwargs\u001b[0m\u001b[0;34m)\u001b[0m\u001b[0;34m\u001b[0m\u001b[0;34m\u001b[0m\u001b[0m\n\u001b[1;32m    726\u001b[0m         \u001b[0;32melse\u001b[0m\u001b[0;34m:\u001b[0m\u001b[0;34m\u001b[0m\u001b[0;34m\u001b[0m\u001b[0m\n\u001b[0;32m--> 727\u001b[0;31m             \u001b[0mresult\u001b[0m \u001b[0;34m=\u001b[0m \u001b[0mself\u001b[0m\u001b[0;34m.\u001b[0m\u001b[0mforward\u001b[0m\u001b[0;34m(\u001b[0m\u001b[0;34m*\u001b[0m\u001b[0minput\u001b[0m\u001b[0;34m,\u001b[0m \u001b[0;34m**\u001b[0m\u001b[0mkwargs\u001b[0m\u001b[0;34m)\u001b[0m\u001b[0;34m\u001b[0m\u001b[0;34m\u001b[0m\u001b[0m\n\u001b[0m\u001b[1;32m    728\u001b[0m         for hook in itertools.chain(\n\u001b[1;32m    729\u001b[0m                 \u001b[0m_global_forward_hooks\u001b[0m\u001b[0;34m.\u001b[0m\u001b[0mvalues\u001b[0m\u001b[0;34m(\u001b[0m\u001b[0;34m)\u001b[0m\u001b[0;34m,\u001b[0m\u001b[0;34m\u001b[0m\u001b[0;34m\u001b[0m\u001b[0m\n",
      "\u001b[0;32m~/broiron/model_train/ssd-pytorch-custom/layers/modules/multibox_loss.py\u001b[0m in \u001b[0;36mforward\u001b[0;34m(self, predictions, targets)\u001b[0m\n\u001b[1;32m     95\u001b[0m \u001b[0;34m\u001b[0m\u001b[0m\n\u001b[1;32m     96\u001b[0m         \u001b[0;31m# Hard Negative Mining\u001b[0m\u001b[0;34m\u001b[0m\u001b[0;34m\u001b[0m\u001b[0;34m\u001b[0m\u001b[0m\n\u001b[0;32m---> 97\u001b[0;31m         \u001b[0mloss_c\u001b[0m\u001b[0;34m[\u001b[0m\u001b[0mpos\u001b[0m\u001b[0;34m.\u001b[0m\u001b[0mview\u001b[0m\u001b[0;34m(\u001b[0m\u001b[0;34m-\u001b[0m\u001b[0;36m1\u001b[0m\u001b[0;34m,\u001b[0m \u001b[0;36m1\u001b[0m\u001b[0;34m)\u001b[0m\u001b[0;34m]\u001b[0m \u001b[0;34m=\u001b[0m \u001b[0;36m0\u001b[0m  \u001b[0;31m# filter out pos boxes for now UPDATED\u001b[0m\u001b[0;34m\u001b[0m\u001b[0;34m\u001b[0m\u001b[0m\n\u001b[0m\u001b[1;32m     98\u001b[0m         \u001b[0mloss_c\u001b[0m \u001b[0;34m=\u001b[0m \u001b[0mloss_c\u001b[0m\u001b[0;34m.\u001b[0m\u001b[0mview\u001b[0m\u001b[0;34m(\u001b[0m\u001b[0mnum\u001b[0m\u001b[0;34m,\u001b[0m \u001b[0;34m-\u001b[0m\u001b[0;36m1\u001b[0m\u001b[0;34m)\u001b[0m\u001b[0;34m\u001b[0m\u001b[0;34m\u001b[0m\u001b[0m\n\u001b[1;32m     99\u001b[0m         \u001b[0m_\u001b[0m\u001b[0;34m,\u001b[0m \u001b[0mloss_idx\u001b[0m \u001b[0;34m=\u001b[0m \u001b[0mloss_c\u001b[0m\u001b[0;34m.\u001b[0m\u001b[0msort\u001b[0m\u001b[0;34m(\u001b[0m\u001b[0;36m1\u001b[0m\u001b[0;34m,\u001b[0m \u001b[0mdescending\u001b[0m\u001b[0;34m=\u001b[0m\u001b[0;32mTrue\u001b[0m\u001b[0;34m)\u001b[0m\u001b[0;34m\u001b[0m\u001b[0;34m\u001b[0m\u001b[0m\n",
      "\u001b[0;31mRuntimeError\u001b[0m: CUDA error: device-side assert triggered"
     ]
    }
   ],
   "source": [
    "losses = []\n",
    "\n",
    "batch_iterator = iter(data_loader)\n",
    "for iteration in range(0, iter_size):\n",
    "    loc_loss = 0\n",
    "    conf_loss = 0\n",
    "    epoch += 1\n",
    "    \n",
    "    try:\n",
    "        images, targets = next(batch_iterator)\n",
    "    except StopIteration:\n",
    "        batch_iterator = iter(data_loader)\n",
    "        images, targets = next(batch_iterator)\n",
    "    \n",
    "    # images, targets= next(batch_iterator)\n",
    "    with torch.no_grad():\n",
    "        images = Variable(images.to(device))\n",
    "        targets = [Variable(ann.to(device)) for ann in targets]\n",
    "    \n",
    "    # forward\n",
    "    t0 = time.time()\n",
    "    out = net(images)\n",
    "    \n",
    "    # backward\n",
    "    optimizer.zero_grad()\n",
    "    loss_l, loss_c = criterion(out, targets)\n",
    "    loss = loss_l + loss_c\n",
    "    loss.backward()\n",
    "    optimizer.step()\n",
    "    t1 = time.time()\n",
    "\n",
    "    loc_loss += loss_l.data.item()\n",
    "    conf_loss += loss_c.data.item()\n",
    "    \n",
    "    if iteration % 1 == 0:\n",
    "        print('timer: %.4f sec.' % (t1 - t0))\n",
    "        print('iter ' + repr(iteration) + ' || Loss: %.4f ||' % (loss.data.item()), end=' ')\n",
    "        losses.append(loss.data.item())\n",
    "    \n",
    "    if iteration != 0 and iteration % 500 == 0:\n",
    "        print('Saving state, iter:', iteration)\n",
    "        torch.save(ssd_net.state_dict(), 'weights/ssd300_line_' +\n",
    "                       repr(iteration) + '.pth')\n",
    "torch.save(ssd_net.state_dict(), './weights/linedataset_vol1_1a'+ '.pth')"
   ]
  },
  {
   "cell_type": "code",
   "execution_count": null,
   "id": "43a26e3a",
   "metadata": {},
   "outputs": [],
   "source": []
  },
  {
   "cell_type": "code",
   "execution_count": null,
   "id": "ab61f031",
   "metadata": {},
   "outputs": [],
   "source": []
  }
 ],
 "metadata": {
  "kernelspec": {
   "display_name": "ssd_train",
   "language": "python",
   "name": "ssd_train"
  },
  "language_info": {
   "codemirror_mode": {
    "name": "ipython",
    "version": 3
   },
   "file_extension": ".py",
   "mimetype": "text/x-python",
   "name": "python",
   "nbconvert_exporter": "python",
   "pygments_lexer": "ipython3",
   "version": "3.7.16"
  }
 },
 "nbformat": 4,
 "nbformat_minor": 5
}
